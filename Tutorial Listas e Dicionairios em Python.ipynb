{
 "cells": [
  {
   "cell_type": "markdown",
   "metadata": {},
   "source": [
    "# Tutorial Busca em Python"
   ]
  },
  {
   "cell_type": "markdown",
   "metadata": {},
   "source": [
    "## Parte 1 -Básico de  Listas\n",
    "\n",
    "Este tutorial é baseado [neste outro tutorial](http://www.devfuria.com.br/python/listas/) que é muito completo e recomemdo a leitura"
   ]
  },
  {
   "cell_type": "markdown",
   "metadata": {},
   "source": [
    "## Abaixo temos um exemplo de uma lista:Listas simples"
   ]
  },
  {
   "cell_type": "code",
   "execution_count": 1,
   "metadata": {},
   "outputs": [
    {
     "name": "stdout",
     "output_type": "stream",
     "text": [
      "pangolin\n",
      "cassowary\n",
      "sloth\n",
      "dog\n"
     ]
    }
   ],
   "source": [
    "animals = [\"pangolin\", \"cassowary\", \"sloth\", \"dog\"];\n",
    "print(animals[0])   # 'pangolin'\n",
    "print(animals[1])   # 'cassowary'\n",
    "print(animals[2])   # 'sloth'\n",
    "print(animals[3])   # 'dog'"
   ]
  },
  {
   "cell_type": "markdown",
   "metadata": {},
   "source": [
    "## Para criar uma lista\n",
    "Podemos criar uma lista vazia."
   ]
  },
  {
   "cell_type": "code",
   "execution_count": 2,
   "metadata": {},
   "outputs": [],
   "source": [
    "lis = []"
   ]
  },
  {
   "cell_type": "markdown",
   "metadata": {},
   "source": [
    "## Percorrendo a lista (list looping)\n",
    "Abaixo vemos um exemplo de como percorrer um lista na sua forma mas simples."
   ]
  },
  {
   "cell_type": "code",
   "execution_count": 3,
   "metadata": {},
   "outputs": [
    {
     "name": "stdout",
     "output_type": "stream",
     "text": [
      "2\n",
      "4\n",
      "6\n",
      "8\n"
     ]
    }
   ],
   "source": [
    "myList = [1, 2, 3, 4]\n",
    "for number in myList:\n",
    "    print(number * 2)\n",
    "# 2\n",
    "# 4\n",
    "# 6\n",
    "# 8"
   ]
  },
  {
   "cell_type": "markdown",
   "metadata": {},
   "source": [
    "Abaixo incrementamos a implementação com a função interna enumarate(). ela irá numerar a lista."
   ]
  },
  {
   "cell_type": "code",
   "execution_count": 4,
   "metadata": {},
   "outputs": [
    {
     "name": "stdout",
     "output_type": "stream",
     "text": [
      "Your choices are:\n",
      "0 pizza\n",
      "1 pasta\n",
      "2 salad\n",
      "3 nachos\n"
     ]
    },
    {
     "data": {
      "text/plain": [
       "'\\nYour choices are:\\n0 pizza\\n1 pasta\\n2 salad\\n3 nachos\\n'"
      ]
     },
     "execution_count": 4,
     "metadata": {},
     "output_type": "execute_result"
    }
   ],
   "source": [
    "choices = ['pizza', 'pasta', 'salad', 'nachos']\n",
    "\n",
    "print ('Your choices are:');\n",
    "for index, item in enumerate(choices):\n",
    "    print (index, item);\n",
    "\n",
    "\"\"\"\n",
    "Your choices are:\n",
    "0 pizza\n",
    "1 pasta\n",
    "2 salad\n",
    "3 nachos\n",
    "\"\"\""
   ]
  },
  {
   "cell_type": "markdown",
   "metadata": {},
   "source": [
    "## Copiando listas\n",
    "Se quisermos copiar uma lista podemos realizar uma simples atribuição, mas manteremos uma relação entre as duas, ou melhor, ambas apontam para o mesmo objeto e as alterações em uma afetará a outra."
   ]
  },
  {
   "cell_type": "code",
   "execution_count": 5,
   "metadata": {},
   "outputs": [],
   "source": [
    "list_a = [6, 7, 8, 9];\n",
    "list_b = list_a"
   ]
  },
  {
   "cell_type": "code",
   "execution_count": 6,
   "metadata": {},
   "outputs": [
    {
     "name": "stdout",
     "output_type": "stream",
     "text": [
      "[6, 7, 8, 9]\n",
      "[6, 7, 8, 9]\n"
     ]
    }
   ],
   "source": [
    "print(list_a)\n",
    "print(list_b)"
   ]
  },
  {
   "cell_type": "markdown",
   "metadata": {},
   "source": [
    "## Juntando listas (join lists)"
   ]
  },
  {
   "cell_type": "code",
   "execution_count": 7,
   "metadata": {},
   "outputs": [
    {
     "name": "stdout",
     "output_type": "stream",
     "text": [
      "[1, 2, 3, 4, 5, 6]\n",
      "[1, 2, 3, 4, 5, 6, 7, 8, 9]\n"
     ]
    }
   ],
   "source": [
    "m = [1, 2, 3]\n",
    "n = [4, 5, 6]\n",
    "o = m + n\n",
    "print(o) # [1, 2, 3, 4, 5, 6]\n",
    "\n",
    "o += [7, 8, 9]\n",
    "print(o) # [1, 2, 3, 4, 5, 6, 7, 8, 9]"
   ]
  },
  {
   "cell_type": "markdown",
   "metadata": {},
   "source": [
    "# Funções nativas para listas"
   ]
  },
  {
   "cell_type": "markdown",
   "metadata": {},
   "source": [
    "# append()"
   ]
  },
  {
   "cell_type": "code",
   "execution_count": 8,
   "metadata": {},
   "outputs": [
    {
     "name": "stdout",
     "output_type": "stream",
     "text": [
      "['um']\n",
      "['um', 'dois', 'tres', 'quatro']\n"
     ]
    }
   ],
   "source": [
    "nums = [\"um\"]\n",
    "print(nums) # ['um']\n",
    "\n",
    "nums.append(\"dois\")\n",
    "nums.append(\"tres\")\n",
    "nums.append(\"quatro\")\n",
    "print(nums) # ['um', 'dois', 'tres', 'quatro']"
   ]
  },
  {
   "cell_type": "markdown",
   "metadata": {},
   "source": [
    "## index()\n",
    "A função index() retorna o index de determinado elemento."
   ]
  },
  {
   "cell_type": "code",
   "execution_count": 9,
   "metadata": {},
   "outputs": [
    {
     "name": "stdout",
     "output_type": "stream",
     "text": [
      "1\n"
     ]
    }
   ],
   "source": [
    "animals = [\"ant\", \"bat\", \"cat\"]\n",
    "print(animals.index(\"bat\")) # 1"
   ]
  },
  {
   "cell_type": "markdown",
   "metadata": {},
   "source": [
    "Se o seu objetivo é saber se um item pertence a lista utilize o operador de teste de inlclusão in."
   ]
  },
  {
   "cell_type": "code",
   "execution_count": 10,
   "metadata": {},
   "outputs": [
    {
     "name": "stdout",
     "output_type": "stream",
     "text": [
      "False\n",
      "True\n"
     ]
    }
   ],
   "source": [
    "animals = [\"ant\", \"bat\", \"cat\"]\n",
    "print('dog' in animals)\n",
    "print('bat' in animals)"
   ]
  },
  {
   "cell_type": "markdown",
   "metadata": {},
   "source": [
    "## insert()"
   ]
  },
  {
   "cell_type": "code",
   "execution_count": 11,
   "metadata": {},
   "outputs": [
    {
     "name": "stdout",
     "output_type": "stream",
     "text": [
      "['ant', 'dog', 'bat', 'cat']\n"
     ]
    }
   ],
   "source": [
    "animals = [\"ant\", \"bat\", \"cat\"]\n",
    "animals.insert(1, \"dog\")\n",
    "print(animals) # [\"ant\", \"dog\", \"bat\", \"cat\"]"
   ]
  },
  {
   "cell_type": "markdown",
   "metadata": {},
   "source": [
    "## remove()\n",
    "\n",
    "Remove através do valor"
   ]
  },
  {
   "cell_type": "code",
   "execution_count": 12,
   "metadata": {},
   "outputs": [
    {
     "name": "stdout",
     "output_type": "stream",
     "text": [
      "['bat', 'cat']\n"
     ]
    }
   ],
   "source": [
    "animals = [\"ant\", \"bat\", \"cat\"]\n",
    "animals.remove(\"ant\")\n",
    "print(animals) # [\"bat\", \"cat\"]"
   ]
  },
  {
   "cell_type": "markdown",
   "metadata": {},
   "source": [
    "## pop()\n",
    "Remove através do índice (retorna o valor removido)."
   ]
  },
  {
   "cell_type": "code",
   "execution_count": 13,
   "metadata": {},
   "outputs": [
    {
     "name": "stdout",
     "output_type": "stream",
     "text": [
      "['bat', 'cat']\n"
     ]
    }
   ],
   "source": [
    "animals = [\"ant\", \"bat\", \"cat\"]\n",
    "animals.pop(0) # 'ant'\n",
    "print(animals) # [\"bat\", \"cat\"]"
   ]
  },
  {
   "cell_type": "markdown",
   "metadata": {},
   "source": [
    "Semelhante a utilização de del():"
   ]
  },
  {
   "cell_type": "code",
   "execution_count": 14,
   "metadata": {},
   "outputs": [
    {
     "name": "stdout",
     "output_type": "stream",
     "text": [
      "['bat', 'cat']\n"
     ]
    }
   ],
   "source": [
    "animals = [\"ant\", \"bat\", \"cat\"]\n",
    "del(animals[0])\n",
    "print(animals) # [\"bat\", \"cat\"]"
   ]
  },
  {
   "cell_type": "markdown",
   "metadata": {},
   "source": [
    "## sort()"
   ]
  },
  {
   "cell_type": "code",
   "execution_count": 15,
   "metadata": {},
   "outputs": [
    {
     "name": "stdout",
     "output_type": "stream",
     "text": [
      "['c', 'b', 'a']\n",
      "['a', 'b', 'c']\n"
     ]
    }
   ],
   "source": [
    "lista = [\"c\", \"b\", \"a\"]\n",
    "print(lista) # ['c', 'b', 'a']\n",
    "\n",
    "lista.sort()\n",
    "print(lista) # ['a', 'b', 'c']"
   ]
  },
  {
   "cell_type": "markdown",
   "metadata": {},
   "source": [
    "## Parte 2 -Básico de Dicionários\n",
    "\n",
    "Este tutorial é baseado [neste outro tutorial](http://www.devfuria.com.br/python/dicionarios-dictionaries/) que é muito completo e recomemdo a leitura"
   ]
  },
  {
   "cell_type": "markdown",
   "metadata": {},
   "source": [
    "## Criando um dicionário"
   ]
  },
  {
   "cell_type": "code",
   "execution_count": 16,
   "metadata": {},
   "outputs": [],
   "source": [
    "people = {\n",
    "    \"name\": \"joao\",\n",
    "    \"age\": 39,\n",
    "    \"skylls\": ['python', 'ruby', 'php']\n",
    "}"
   ]
  },
  {
   "cell_type": "markdown",
   "metadata": {},
   "source": [
    "## atribuição de valores"
   ]
  },
  {
   "cell_type": "code",
   "execution_count": 17,
   "metadata": {},
   "outputs": [],
   "source": [
    "people['age']= 40"
   ]
  },
  {
   "cell_type": "markdown",
   "metadata": {},
   "source": [
    "## Acessando os dados:"
   ]
  },
  {
   "cell_type": "code",
   "execution_count": 18,
   "metadata": {},
   "outputs": [
    {
     "name": "stdout",
     "output_type": "stream",
     "text": [
      "joao\n",
      "40\n",
      "['python', 'ruby', 'php']\n"
     ]
    }
   ],
   "source": [
    "print(people['name'])\n",
    "print(people['age'])\n",
    "print(people['skylls'])\n",
    "\n",
    "# joao\n",
    "# 40\n",
    "# ['python', 'ruby', 'php']"
   ]
  },
  {
   "cell_type": "markdown",
   "metadata": {},
   "source": [
    "Dicionários também podem ser criados dinamicamente como no exemplo baixo."
   ]
  },
  {
   "cell_type": "code",
   "execution_count": 19,
   "metadata": {},
   "outputs": [],
   "source": [
    "dic = {}\n",
    "dic['name'] = \"joao\"\n",
    "dic['age']  = \"39\""
   ]
  },
  {
   "cell_type": "code",
   "execution_count": 20,
   "metadata": {},
   "outputs": [
    {
     "data": {
      "text/plain": [
       "dict_items([('name', 'joao'), ('age', '39')])"
      ]
     },
     "execution_count": 20,
     "metadata": {},
     "output_type": "execute_result"
    }
   ],
   "source": [
    "dic.items()"
   ]
  },
  {
   "cell_type": "code",
   "execution_count": 21,
   "metadata": {},
   "outputs": [
    {
     "data": {
      "text/plain": [
       "dict_items([('name', 'joao'), ('age', 40), ('skylls', ['python', 'ruby', 'php'])])"
      ]
     },
     "execution_count": 21,
     "metadata": {},
     "output_type": "execute_result"
    }
   ],
   "source": [
    "people.items()"
   ]
  },
  {
   "cell_type": "code",
   "execution_count": 22,
   "metadata": {},
   "outputs": [
    {
     "data": {
      "text/plain": [
       "dict_keys(['name', 'age', 'skylls'])"
      ]
     },
     "execution_count": 22,
     "metadata": {},
     "output_type": "execute_result"
    }
   ],
   "source": [
    "people.keys()"
   ]
  },
  {
   "cell_type": "markdown",
   "metadata": {},
   "source": [
    "## Percorrendo dicionários (dictionaries looping)"
   ]
  },
  {
   "cell_type": "code",
   "execution_count": 23,
   "metadata": {},
   "outputs": [
    {
     "name": "stdout",
     "output_type": "stream",
     "text": [
      "a apple\n",
      "b berry\n",
      "c cherry\n"
     ]
    },
    {
     "data": {
      "text/plain": [
       "'\\na apple\\nc cherry\\nb berry\\n'"
      ]
     },
     "execution_count": 23,
     "metadata": {},
     "output_type": "execute_result"
    }
   ],
   "source": [
    "d = {'a': 'apple', 'b': 'berry', 'c': 'cherry'}\n",
    "\n",
    "for key in d:\n",
    "    print(key + \" \" + d[key])\n",
    "\n",
    "\"\"\"\n",
    "a apple\n",
    "c cherry\n",
    "b berry\n",
    "\"\"\""
   ]
  },
  {
   "cell_type": "markdown",
   "metadata": {},
   "source": [
    "## Outro exemplo"
   ]
  },
  {
   "cell_type": "code",
   "execution_count": 24,
   "metadata": {},
   "outputs": [
    {
     "name": "stdout",
     "output_type": "stream",
     "text": [
      "A star of a popular children's cartoon show.\n",
      "The sound a goat makes.\n",
      "Goes on the floor.\n",
      "A small amount.\n"
     ]
    },
    {
     "data": {
      "text/plain": [
       "\"\\nA star of a popular children's cartoon show.\\nGoes on the floor.\\nA small amount.\\nThe sound a goat makes.\\nNone\\n\""
      ]
     },
     "execution_count": 24,
     "metadata": {},
     "output_type": "execute_result"
    }
   ],
   "source": [
    "webster = {\n",
    "    \"Aardvark\" : \"A star of a popular children's cartoon show.\",\n",
    "    \"Baa\" : \"The sound a goat makes.\",\n",
    "    \"Carpet\": \"Goes on the floor.\",\n",
    "    \"Dab\": \"A small amount.\"\n",
    "}\n",
    "\n",
    "for word in webster:\n",
    "    print(webster[word])\n",
    "\n",
    "'''\n",
    "A star of a popular children's cartoon show.\n",
    "Goes on the floor.\n",
    "A small amount.\n",
    "The sound a goat makes.\n",
    "None\n",
    "'''"
   ]
  },
  {
   "cell_type": "markdown",
   "metadata": {},
   "source": [
    "## Funções para dicionários"
   ]
  },
  {
   "cell_type": "code",
   "execution_count": 25,
   "metadata": {},
   "outputs": [
    {
     "name": "stdout",
     "output_type": "stream",
     "text": [
      "dict_items([('1', 'a'), ('2', 'b'), ('3', 'c')])\n",
      "dict_keys(['1', '2', '3'])\n",
      "dict_values(['a', 'b', 'c'])\n"
     ]
    }
   ],
   "source": [
    "my_dict = {\n",
    "    \"1\": \"a\",\n",
    "    \"2\": \"b\",\n",
    "    \"3\": \"c\"\n",
    "}\n",
    "\n",
    "print(my_dict.items())  # dict_items([('1', 'a'), ('3', 'c'), ('2', 'b')])\n",
    "print(my_dict.keys())   # dict_keys(['1', '3', '2'])\n",
    "print(my_dict.values()) # dict_values(['a', 'c', 'b'])"
   ]
  },
  {
   "cell_type": "code",
   "execution_count": 26,
   "metadata": {},
   "outputs": [
    {
     "name": "stdout",
     "output_type": "stream",
     "text": [
      "A star of a popular children's cartoon show.\n",
      "The sound a goat makes.\n",
      "Goes on the floor.\n",
      "A small amount.\n"
     ]
    },
    {
     "data": {
      "text/plain": [
       "\"\\nA star of a popular children's cartoon show.\\nGoes on the floor.\\nA small amount.\\nThe sound a goat makes.\\nNone\\n\""
      ]
     },
     "execution_count": 26,
     "metadata": {},
     "output_type": "execute_result"
    }
   ],
   "source": [
    "webster = {\n",
    "    \"Aardvark\" : \"A star of a popular children's cartoon show.\",\n",
    "    \"Baa\" : \"The sound a goat makes.\",\n",
    "    \"Carpet\": \"Goes on the floor.\",\n",
    "    \"Dab\": \"A small amount.\"\n",
    "}\n",
    "\n",
    "for key in webster.keys():\n",
    "    print(webster[key])\n",
    "\n",
    "'''\n",
    "A star of a popular children's cartoon show.\n",
    "Goes on the floor.\n",
    "A small amount.\n",
    "The sound a goat makes.\n",
    "None\n",
    "'''"
   ]
  },
  {
   "cell_type": "code",
   "execution_count": 27,
   "metadata": {},
   "outputs": [
    {
     "name": "stdout",
     "output_type": "stream",
     "text": [
      "Aardvark\n",
      "Baa\n",
      "Carpet\n",
      "Dab\n"
     ]
    },
    {
     "data": {
      "text/plain": [
       "\"\\nA star of a popular children's cartoon show.\\nGoes on the floor.\\nA small amount.\\nThe sound a goat makes.\\nNone\\n\""
      ]
     },
     "execution_count": 27,
     "metadata": {},
     "output_type": "execute_result"
    }
   ],
   "source": [
    "webster = {\n",
    "    \"Aardvark\" : \"A star of a popular children's cartoon show.\",\n",
    "    \"Baa\" : \"The sound a goat makes.\",\n",
    "    \"Carpet\": \"Goes on the floor.\",\n",
    "    \"Dab\": \"A small amount.\"\n",
    "}\n",
    "\n",
    "for item in webster:\n",
    "    print(item)\n",
    "\n",
    "'''\n",
    "A star of a popular children's cartoon show.\n",
    "Goes on the floor.\n",
    "A small amount.\n",
    "The sound a goat makes.\n",
    "None\n",
    "'''"
   ]
  },
  {
   "cell_type": "code",
   "execution_count": 28,
   "metadata": {},
   "outputs": [
    {
     "name": "stdout",
     "output_type": "stream",
     "text": [
      "A star of a popular children's cartoon show.\n",
      "The sound a goat makes.\n",
      "Goes on the floor.\n",
      "A small amount.\n"
     ]
    },
    {
     "data": {
      "text/plain": [
       "\"\\nA star of a popular children's cartoon show.\\nGoes on the floor.\\nA small amount.\\nThe sound a goat makes.\\nNone\\n\""
      ]
     },
     "execution_count": 28,
     "metadata": {},
     "output_type": "execute_result"
    }
   ],
   "source": [
    "webster = {\n",
    "    \"Aardvark\" : \"A star of a popular children's cartoon show.\",\n",
    "    \"Baa\" : \"The sound a goat makes.\",\n",
    "    \"Carpet\": \"Goes on the floor.\",\n",
    "    \"Dab\": \"A small amount.\"\n",
    "}\n",
    "\n",
    "for item in webster.values():\n",
    "    print(item)\n",
    "\n",
    "'''\n",
    "A star of a popular children's cartoon show.\n",
    "Goes on the floor.\n",
    "A small amount.\n",
    "The sound a goat makes.\n",
    "None\n",
    "'''"
   ]
  },
  {
   "cell_type": "code",
   "execution_count": 38,
   "metadata": {},
   "outputs": [
    {
     "name": "stdout",
     "output_type": "stream",
     "text": [
      "Aardvark\n",
      "A star of \n",
      "Baa\n",
      "The sound \n",
      "Carpet\n",
      "Goes on th\n",
      "Dab\n",
      "A small am\n"
     ]
    },
    {
     "data": {
      "text/plain": [
       "\"\\nA star of a popular children's cartoon show.\\nGoes on the floor.\\nA small amount.\\nThe sound a goat makes.\\nNone\\n\""
      ]
     },
     "execution_count": 38,
     "metadata": {},
     "output_type": "execute_result"
    }
   ],
   "source": [
    "webster = {\n",
    "    \"Aardvark\" : \"A star of a popular children's cartoon show.\",\n",
    "    \"Baa\" : \"The sound a goat makes.\",\n",
    "    \"Carpet\": \"Goes on the floor.\",\n",
    "    \"Dab\": \"A small amount.\"\n",
    "}\n",
    "\n",
    "for item in webster.items():\n",
    "    print(item[0])\n",
    "    print(item[1][0:10])\n",
    "\n",
    "'''\n",
    "A star of a popular children's cartoon show.\n",
    "Goes on the floor.\n",
    "A small amount.\n",
    "The sound a goat makes.\n",
    "None\n",
    "'''"
   ]
  },
  {
   "cell_type": "markdown",
   "metadata": {},
   "source": [
    "# Este é um tópico mais avançado e opcional"
   ]
  },
  {
   "cell_type": "markdown",
   "metadata": {},
   "source": [
    "# Compreensão de listas\n",
    "Em Python, Compreensão de Listas é um conceito poderoso e que deve ser estudado. \n",
    " No entanto, ainda é um dos tópicos mais difíceis para quem está se iniciando em Python.\n",
    " Este tutorial vai ajudá-lo a dominar esse conceito vai ajudá-lo de duas maneiras:\n",
    "  - Você pode escrever códigos mais curtos e mais eficazes\n",
    "  - Como consequência, seu código será executado de forma mais rápida\n",
    "  - Na sequencia vamos aprender a manusear dicionários que são uam estrutura de dados baseada em listas muito importante para a impelmentação de algoritmos de busca\n",
    "Você sabia que as Compreensões de Lista são **35% mais rápidas do que o loop FOR e 45% mais rápidas do que a função map?** "
   ]
  },
  {
   "cell_type": "markdown",
   "metadata": {},
   "source": [
    " ## O que é Compreensão de Listas (CL)\n",
    "Quando começão a usar a CL pela primeira vez, é importante recordar da notação de conjuntos.\n",
    "\n",
    "Vejamos alguns exemplos simples:\n",
    "\n",
    "1. {x ^ 2: x é um número natural menor que 10}\n",
    "2. {x: x é um número inteiro menor que 20, x é ímpar}\n",
    "3. {x: x é uma letra na palavra ‘MATEMÁTICA’, x é uma vogal}\n",
    "\n",
    "Agora vejamos os códigos Python correspondentes em CL, na mesma ordem:\n",
    "\n",
    "1. [x**2 for x in range(0, 10)]\n",
    "2. [x for x in range(1, 20) if x % 2 == 0]\n",
    "3. [x for x in ‘MATEMÁTICA’ if x in [‘A’, ‘E’, ‘I’, ‘O’, ‘U’]]"
   ]
  },
  {
   "cell_type": "markdown",
   "metadata": {},
   "source": [
    "Parece intuitivo, certo?\n",
    "\n",
    "Não se preocupe se parecer um pouco confuso. Continue me acompanhando, vai ficar mais claro na medida em que avançamos. Vamos dar um passo atrás e analisar o que está acontecendo aqui. Cada um dos exemplos acima envolve 3 coisas – iteração, filtragem condicional e processamento. Por isso, talvez você possa dizer que se trata apenas de uma outra representação de loop FOR.\n",
    "\n",
    "Em termo gerais, um loop FOR funciona assim:"
   ]
  },
  {
   "cell_type": "markdown",
   "metadata": {},
   "source": [
    "<font color=red>for (conjunto de valores a iterar):</font>\n",
    "> <font color=blue>if (filtro condicional):</font>\n",
    "> > <font color=green>expressão_de_retorno()</font>"
   ]
  },
  {
   "cell_type": "markdown",
   "metadata": {},
   "source": [
    "O mesmo código pode ser construído de modo CL numa única linha:\n",
    "[<font color=green>expressão_de_retorno()</font><font color=red> for (conjunto de valores a iterar)</font><font color=blue> if (filtro condicional)</font>]"
   ]
  },
  {
   "cell_type": "markdown",
   "metadata": {},
   "source": [
    "Considere agora outro exemplo: {x: x é um número natural menor ou igual a 100, x é uma raiz quadrada exata}. Isso pode ser resolvido com um loop FOR da seguinte forma:"
   ]
  },
  {
   "cell_type": "code",
   "execution_count": 74,
   "metadata": {},
   "outputs": [
    {
     "name": "stdout",
     "output_type": "stream",
     "text": [
      "1\n",
      "4\n",
      "9\n",
      "16\n",
      "25\n",
      "36\n",
      "49\n",
      "64\n",
      "81\n",
      "100\n",
      "Wall time: 0 ns\n"
     ]
    }
   ],
   "source": [
    "%%time\n",
    "for i in range(1, 101):         #iterador\n",
    "   if int(i**0.5) == i**0.5:    #filtro condicional\n",
    "      print(i)                   #retorno"
   ]
  },
  {
   "cell_type": "markdown",
   "metadata": {},
   "source": [
    "Agora, para criar o código CL, precisamos apenas plugar as diferentes partes:"
   ]
  },
  {
   "cell_type": "code",
   "execution_count": 75,
   "metadata": {},
   "outputs": [
    {
     "name": "stdout",
     "output_type": "stream",
     "text": [
      "Wall time: 0 ns\n"
     ]
    },
    {
     "data": {
      "text/plain": [
       "[1, 4, 9, 16, 25, 36, 49, 64, 81]"
      ]
     },
     "execution_count": 75,
     "metadata": {},
     "output_type": "execute_result"
    }
   ],
   "source": [
    "%%time\n",
    "[ i for i in range(1, 100) if int(i**0.5) == i**0.5 ]"
   ]
  },
  {
   "cell_type": "code",
   "execution_count": 76,
   "metadata": {},
   "outputs": [],
   "source": [
    "uma_lista = ['a','c','d','e']\n",
    "outra_lista = ['a','b','c','d','e','f','g']"
   ]
  },
  {
   "cell_type": "code",
   "execution_count": 77,
   "metadata": {},
   "outputs": [],
   "source": [
    "uma_outra_lista = uma_lista+outra_lista"
   ]
  },
  {
   "cell_type": "code",
   "execution_count": 78,
   "metadata": {},
   "outputs": [
    {
     "name": "stdout",
     "output_type": "stream",
     "text": [
      "a\n",
      "c\n",
      "d\n",
      "e\n"
     ]
    }
   ],
   "source": [
    "for item in uma_lista:\n",
    "    print(item)"
   ]
  },
  {
   "cell_type": "code",
   "execution_count": 79,
   "metadata": {},
   "outputs": [
    {
     "name": "stdout",
     "output_type": "stream",
     "text": [
      "a\n",
      "b\n",
      "c\n",
      "d\n",
      "e\n",
      "f\n",
      "g\n"
     ]
    }
   ],
   "source": [
    "for item in outra_lista:\n",
    "    print(item)"
   ]
  },
  {
   "cell_type": "code",
   "execution_count": 80,
   "metadata": {},
   "outputs": [
    {
     "name": "stdout",
     "output_type": "stream",
     "text": [
      "a\n",
      "c\n",
      "d\n",
      "e\n",
      "a\n",
      "b\n",
      "c\n",
      "d\n",
      "e\n",
      "f\n",
      "g\n"
     ]
    }
   ],
   "source": [
    "for item in uma_outra_lista:\n",
    "    print(item)"
   ]
  }
 ],
 "metadata": {
  "kernelspec": {
   "display_name": "Python 3",
   "language": "python",
   "name": "python3"
  },
  "language_info": {
   "codemirror_mode": {
    "name": "ipython",
    "version": 3
   },
   "file_extension": ".py",
   "mimetype": "text/x-python",
   "name": "python",
   "nbconvert_exporter": "python",
   "pygments_lexer": "ipython3",
   "version": "3.6.8"
  }
 },
 "nbformat": 4,
 "nbformat_minor": 2
}
