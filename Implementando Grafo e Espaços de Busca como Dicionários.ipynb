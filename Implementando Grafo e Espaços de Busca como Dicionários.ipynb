{
 "cells": [
  {
   "cell_type": "markdown",
   "metadata": {},
   "source": [
    "## Implementando Grafo e Espaços de Busca como Dicionários"
   ]
  },
  {
   "cell_type": "markdown",
   "metadata": {},
   "source": [
    "![Grafo Exemplo](GrafoExemplo1.png \"Nosso exemplo da ultima aula\")"
   ]
  },
  {
   "cell_type": "markdown",
   "metadata": {},
   "source": [
    "Cada nó será uma key e cada **vizinho** de um nó será um valor da chave, por exemplo para A que possui como vizinhos B e C teremos"
   ]
  },
  {
   "cell_type": "code",
   "execution_count": 1,
   "metadata": {},
   "outputs": [],
   "source": [
    "grafo = {\n",
    "    'A' : ['B','C'],\n",
    "    }"
   ]
  },
  {
   "cell_type": "code",
   "execution_count": 2,
   "metadata": {},
   "outputs": [
    {
     "name": "stdout",
     "output_type": "stream",
     "text": [
      "dict_items([('A', ['B', 'C'])])\n"
     ]
    }
   ],
   "source": [
    "print(grafo.items())"
   ]
  },
  {
   "cell_type": "code",
   "execution_count": 3,
   "metadata": {},
   "outputs": [
    {
     "name": "stdout",
     "output_type": "stream",
     "text": [
      "dict_keys(['A'])\n"
     ]
    }
   ],
   "source": [
    "print(grafo.keys())"
   ]
  },
  {
   "cell_type": "code",
   "execution_count": 4,
   "metadata": {},
   "outputs": [
    {
     "name": "stdout",
     "output_type": "stream",
     "text": [
      "B\n",
      "C\n"
     ]
    }
   ],
   "source": [
    "print(grafo['A'][0])\n",
    "print(grafo['A'][1])"
   ]
  },
  {
   "cell_type": "code",
   "execution_count": 5,
   "metadata": {},
   "outputs": [
    {
     "name": "stdout",
     "output_type": "stream",
     "text": [
      "['B', 'C']\n"
     ]
    }
   ],
   "source": [
    "print(grafo['A'])"
   ]
  },
  {
   "cell_type": "code",
   "execution_count": 6,
   "metadata": {},
   "outputs": [],
   "source": [
    "# Vamos usar um dicionário para construir uma matris de adajcencia\n",
    "grafo = {\n",
    "    'A' : ['B','C'],\n",
    "    'B' : ['D', 'E'],\n",
    "    'C' : ['F','G'],\n",
    "    'D' : ['H','I'],\n",
    "    'E' : ['J'],\n",
    "    'F' : ['K'],\n",
    "    'G' : [],\n",
    "    'H' : [],\n",
    "    'I' : [],\n",
    "    'J' : [],\n",
    "    'K' : []\n",
    "  }"
   ]
  },
  {
   "cell_type": "code",
   "execution_count": 7,
   "metadata": {},
   "outputs": [],
   "source": [
    "## Função que imprime os vizinhos de um nó\n",
    "def imprime_vizinhos(grafo, no):\n",
    "    print(grafo[no])"
   ]
  },
  {
   "cell_type": "code",
   "execution_count": 8,
   "metadata": {},
   "outputs": [
    {
     "name": "stdout",
     "output_type": "stream",
     "text": [
      "['B', 'C']\n"
     ]
    }
   ],
   "source": [
    "imprime_vizinhos(grafo,'A')"
   ]
  },
  {
   "cell_type": "code",
   "execution_count": 9,
   "metadata": {},
   "outputs": [
    {
     "name": "stdout",
     "output_type": "stream",
     "text": [
      "Os vizinhos de  A são:['B', 'C']\n",
      "Os vizinhos de  B são:['D', 'E']\n",
      "Os vizinhos de  C são:['F', 'G']\n",
      "Os vizinhos de  D são:['H', 'I']\n",
      "Os vizinhos de  E são:['J']\n",
      "Os vizinhos de  F são:['K']\n",
      "Os vizinhos de  G são:[]\n",
      "Os vizinhos de  H são:[]\n",
      "Os vizinhos de  I são:[]\n",
      "Os vizinhos de  J são:[]\n",
      "Os vizinhos de  K são:[]\n"
     ]
    }
   ],
   "source": [
    "## Vamos usar esta função para apresnetar todos os vizinhos:\n",
    "for key in grafo.keys():\n",
    "    print('Os vizinhos de '+' '+str(key)+' são:'+str(grafo[key]))"
   ]
  },
  {
   "cell_type": "markdown",
   "metadata": {},
   "source": [
    "Veja este tutorial bem interessante sobre busca em profundidade [Clicando aqui](https://www.educative.io/edpresso/what-is-depth-first-search)"
   ]
  },
  {
   "cell_type": "markdown",
   "metadata": {},
   "source": [
    "# Implementação da Busca em Profundidade sem critério de parada (Varredura do Grafo)"
   ]
  },
  {
   "cell_type": "code",
   "execution_count": 10,
   "metadata": {},
   "outputs": [],
   "source": [
    "# Vamos usar um dicionário para construir uma matriz de adjacencia\n",
    "\n",
    "visitados = [] # Vetor dos nós vistadoss.\n",
    "\n",
    "def busca_em_profundidade(visitados, grafo, no):\n",
    "    if (no not in visitados):\n",
    "        #print(no),\n",
    "        #print(objetivo)\n",
    "        #print(visitados)\n",
    "        #print(objetivo not in visitados)\n",
    "        visitados.append(no)\n",
    "        for vizinho in grafo[no]:\n",
    "            busca_em_profundidade(visitados, grafo, vizinho)\n",
    "        return visitados"
   ]
  },
  {
   "cell_type": "code",
   "execution_count": 11,
   "metadata": {},
   "outputs": [],
   "source": [
    "def busca_em_profundidade2(visitados, grafo, no):\n",
    "    visitados = []\n",
    "    #print(no)\n",
    "    #print(visitados)\n",
    "    busca_em_profundidade(visitados, grafo, no)\n",
    "    return visitados"
   ]
  },
  {
   "cell_type": "markdown",
   "metadata": {},
   "source": [
    "## Testando as Funções"
   ]
  },
  {
   "cell_type": "code",
   "execution_count": 12,
   "metadata": {},
   "outputs": [
    {
     "data": {
      "text/plain": [
       "['A', 'B', 'D', 'H', 'I', 'E', 'J', 'C', 'F', 'K', 'G']"
      ]
     },
     "execution_count": 12,
     "metadata": {},
     "output_type": "execute_result"
    }
   ],
   "source": [
    "busca_em_profundidade(visitados,grafo,'A')"
   ]
  },
  {
   "cell_type": "code",
   "execution_count": 13,
   "metadata": {},
   "outputs": [],
   "source": [
    "busca_em_profundidade(visitados,grafo,'B')"
   ]
  },
  {
   "cell_type": "code",
   "execution_count": 14,
   "metadata": {},
   "outputs": [
    {
     "data": {
      "text/plain": [
       "['A', 'B', 'D', 'H', 'I', 'E', 'J', 'C', 'F', 'K', 'G']"
      ]
     },
     "execution_count": 14,
     "metadata": {},
     "output_type": "execute_result"
    }
   ],
   "source": [
    "busca_em_profundidade2(visitados,grafo,'A')"
   ]
  },
  {
   "cell_type": "code",
   "execution_count": 15,
   "metadata": {},
   "outputs": [
    {
     "data": {
      "text/plain": [
       "['B', 'D', 'H', 'I', 'E', 'J']"
      ]
     },
     "execution_count": 15,
     "metadata": {},
     "output_type": "execute_result"
    }
   ],
   "source": [
    "busca_em_profundidade2(visitados,grafo,'B')"
   ]
  },
  {
   "cell_type": "code",
   "execution_count": 16,
   "metadata": {},
   "outputs": [
    {
     "name": "stdout",
     "output_type": "stream",
     "text": [
      "A\n",
      "['A', 'B', 'D', 'H', 'I', 'E', 'J', 'C', 'F', 'K', 'G']\n",
      "B\n",
      "['B', 'D', 'H', 'I', 'E', 'J']\n",
      "C\n",
      "['C', 'F', 'K', 'G']\n",
      "D\n",
      "['D', 'H', 'I']\n",
      "E\n",
      "['E', 'J']\n",
      "F\n",
      "['F', 'K']\n",
      "G\n",
      "['G']\n",
      "H\n",
      "['H']\n",
      "I\n",
      "['I']\n",
      "J\n",
      "['J']\n",
      "K\n",
      "['K']\n"
     ]
    }
   ],
   "source": [
    "for key in grafo.keys():\n",
    "    print(key)\n",
    "    print(busca_em_profundidade2(visitados,grafo,key))"
   ]
  },
  {
   "cell_type": "markdown",
   "metadata": {},
   "source": [
    "## Porque quando executamos pela segunda vez a função busca_em_profundidade não tivermos retorno ?"
   ]
  },
  {
   "cell_type": "markdown",
   "metadata": {},
   "source": [
    "# Implementação da Busca em Profundidade com Objetivos (Critério de Parada)"
   ]
  },
  {
   "cell_type": "code",
   "execution_count": 17,
   "metadata": {},
   "outputs": [],
   "source": [
    "# Vamos usar um dicionário para construir uma matris de adajcencia\n",
    "\n",
    "visitados = [] # Vetor dos nós vistadoss.\n",
    "\n",
    "def busca_em_profundidade_com_objetivo(visitados, grafo, no, objetivo):\n",
    "    if (no not in visitados):\n",
    "        #print(no),\n",
    "        #print(objetivo)\n",
    "        #print(visitados)\n",
    "        #print(objetivo not in visitados)\n",
    "        if (objetivo not in visitados): visitados.append(no)\n",
    "        for vizinho in grafo[no]:\n",
    "            busca_em_profundidade_com_objetivo(visitados, grafo, vizinho, objetivo)\n",
    "        return visitados"
   ]
  },
  {
   "cell_type": "code",
   "execution_count": 18,
   "metadata": {},
   "outputs": [],
   "source": [
    "def busca_em_profundidade_com_objetivo2(visitados, grafo, no, objetivo):\n",
    "    visitados = []\n",
    "    #print(no)\n",
    "    #print(visitados)\n",
    "    busca_em_profundidade_com_objetivo(visitados, grafo, no, objetivo)\n",
    "    return visitados"
   ]
  },
  {
   "cell_type": "code",
   "execution_count": 19,
   "metadata": {},
   "outputs": [
    {
     "data": {
      "text/plain": [
       "['A', 'B', 'D', 'H', 'I', 'E', 'J', 'C']"
      ]
     },
     "execution_count": 19,
     "metadata": {},
     "output_type": "execute_result"
    }
   ],
   "source": [
    "visitados = []\n",
    "busca_em_profundidade_com_objetivo(visitados,grafo,'A','C')"
   ]
  },
  {
   "cell_type": "code",
   "execution_count": 20,
   "metadata": {},
   "outputs": [
    {
     "data": {
      "text/plain": [
       "['B', 'D', 'H', 'I', 'E', 'J']"
      ]
     },
     "execution_count": 20,
     "metadata": {},
     "output_type": "execute_result"
    }
   ],
   "source": [
    "visitados = []\n",
    "busca_em_profundidade_com_objetivo(visitados,grafo,'B','G')"
   ]
  },
  {
   "cell_type": "code",
   "execution_count": 21,
   "metadata": {},
   "outputs": [
    {
     "name": "stdout",
     "output_type": "stream",
     "text": [
      "A\n",
      "['A']\n",
      "B\n",
      "['A', 'B']\n",
      "C\n",
      "['A', 'B', 'D', 'H', 'I', 'E', 'J', 'C']\n",
      "D\n",
      "['A', 'B', 'D']\n",
      "E\n",
      "['A', 'B', 'D', 'H', 'I', 'E']\n",
      "F\n",
      "['A', 'B', 'D', 'H', 'I', 'E', 'J', 'C', 'F']\n",
      "G\n",
      "['A', 'B', 'D', 'H', 'I', 'E', 'J', 'C', 'F', 'K', 'G']\n",
      "H\n",
      "['A', 'B', 'D', 'H']\n",
      "I\n",
      "['A', 'B', 'D', 'H', 'I']\n",
      "J\n",
      "['A', 'B', 'D', 'H', 'I', 'E', 'J']\n",
      "K\n",
      "['A', 'B', 'D', 'H', 'I', 'E', 'J', 'C', 'F', 'K']\n"
     ]
    }
   ],
   "source": [
    "for key in grafo.keys():\n",
    "    print(key)\n",
    "    print(busca_em_profundidade_com_objetivo2(visitados,grafo,'A',key))"
   ]
  },
  {
   "cell_type": "markdown",
   "metadata": {},
   "source": [
    "# Busca em largura"
   ]
  },
  {
   "cell_type": "markdown",
   "metadata": {},
   "source": [
    "Veja este tutorial bem interessante sobre busca em largura [Clicando aqui](https://www.educative.io/edpresso/what-is-breadth-first-search)"
   ]
  },
  {
   "cell_type": "code",
   "execution_count": 22,
   "metadata": {},
   "outputs": [],
   "source": [
    "no = 'A'"
   ]
  },
  {
   "cell_type": "code",
   "execution_count": 23,
   "metadata": {},
   "outputs": [
    {
     "data": {
      "text/plain": [
       "['B', 'C']"
      ]
     },
     "execution_count": 23,
     "metadata": {},
     "output_type": "execute_result"
    }
   ],
   "source": [
    "grafo[no]"
   ]
  },
  {
   "cell_type": "code",
   "execution_count": 24,
   "metadata": {},
   "outputs": [
    {
     "data": {
      "text/plain": [
       "['B', 'C', 'D', 'E']"
      ]
     },
     "execution_count": 24,
     "metadata": {},
     "output_type": "execute_result"
    }
   ],
   "source": [
    "grafo[no]+grafo[grafo[no][0]]"
   ]
  },
  {
   "cell_type": "code",
   "execution_count": 25,
   "metadata": {},
   "outputs": [
    {
     "data": {
      "text/plain": [
       "['B', 'C', 'F', 'G']"
      ]
     },
     "execution_count": 25,
     "metadata": {},
     "output_type": "execute_result"
    }
   ],
   "source": [
    "grafo[no]+grafo[grafo[no][1]]"
   ]
  },
  {
   "cell_type": "code",
   "execution_count": 26,
   "metadata": {},
   "outputs": [
    {
     "data": {
      "text/plain": [
       "['B', 'C', 'D', 'E', 'F', 'G']"
      ]
     },
     "execution_count": 26,
     "metadata": {},
     "output_type": "execute_result"
    }
   ],
   "source": [
    "grafo[no]+grafo[grafo[no][0]]+grafo[grafo[no][1]]"
   ]
  },
  {
   "cell_type": "code",
   "execution_count": 27,
   "metadata": {},
   "outputs": [
    {
     "data": {
      "text/plain": [
       "dict_keys(['A', 'B', 'C', 'D', 'E', 'F', 'G', 'H', 'I', 'J', 'K'])"
      ]
     },
     "execution_count": 27,
     "metadata": {},
     "output_type": "execute_result"
    }
   ],
   "source": [
    "grafo.keys()"
   ]
  },
  {
   "cell_type": "code",
   "execution_count": 28,
   "metadata": {},
   "outputs": [
    {
     "data": {
      "text/plain": [
       "dict_items([('A', ['B', 'C']), ('B', ['D', 'E']), ('C', ['F', 'G']), ('D', ['H', 'I']), ('E', ['J']), ('F', ['K']), ('G', []), ('H', []), ('I', []), ('J', []), ('K', [])])"
      ]
     },
     "execution_count": 28,
     "metadata": {},
     "output_type": "execute_result"
    }
   ],
   "source": [
    "grafo.items()"
   ]
  },
  {
   "cell_type": "code",
   "execution_count": 29,
   "metadata": {},
   "outputs": [],
   "source": [
    "visitados = []; fila = []"
   ]
  },
  {
   "cell_type": "code",
   "execution_count": 30,
   "metadata": {},
   "outputs": [],
   "source": [
    "no = 'A'"
   ]
  },
  {
   "cell_type": "code",
   "execution_count": 31,
   "metadata": {},
   "outputs": [],
   "source": [
    "visitados.append(no)\n",
    "for item in grafo[no]:\n",
    "    fila.append(item)"
   ]
  },
  {
   "cell_type": "code",
   "execution_count": 32,
   "metadata": {},
   "outputs": [
    {
     "data": {
      "text/plain": [
       "['A']"
      ]
     },
     "execution_count": 32,
     "metadata": {},
     "output_type": "execute_result"
    }
   ],
   "source": [
    "visitados"
   ]
  },
  {
   "cell_type": "code",
   "execution_count": 33,
   "metadata": {},
   "outputs": [
    {
     "data": {
      "text/plain": [
       "['B', 'C']"
      ]
     },
     "execution_count": 33,
     "metadata": {},
     "output_type": "execute_result"
    }
   ],
   "source": [
    "fila"
   ]
  },
  {
   "cell_type": "code",
   "execution_count": 34,
   "metadata": {},
   "outputs": [
    {
     "data": {
      "text/plain": [
       "'B'"
      ]
     },
     "execution_count": 34,
     "metadata": {},
     "output_type": "execute_result"
    }
   ],
   "source": [
    "no = fila[0]\n",
    "visitados.append(no)\n",
    "for item in grafo[no]:\n",
    "    fila.append(item)\n",
    "fila.pop(0)"
   ]
  },
  {
   "cell_type": "code",
   "execution_count": 35,
   "metadata": {},
   "outputs": [
    {
     "data": {
      "text/plain": [
       "['C', 'D', 'E']"
      ]
     },
     "execution_count": 35,
     "metadata": {},
     "output_type": "execute_result"
    }
   ],
   "source": [
    "fila"
   ]
  },
  {
   "cell_type": "code",
   "execution_count": 36,
   "metadata": {},
   "outputs": [
    {
     "data": {
      "text/plain": [
       "['A', 'B']"
      ]
     },
     "execution_count": 36,
     "metadata": {},
     "output_type": "execute_result"
    }
   ],
   "source": [
    "visitados"
   ]
  },
  {
   "cell_type": "code",
   "execution_count": 37,
   "metadata": {},
   "outputs": [
    {
     "data": {
      "text/plain": [
       "'C'"
      ]
     },
     "execution_count": 37,
     "metadata": {},
     "output_type": "execute_result"
    }
   ],
   "source": [
    "no = fila[0]\n",
    "visitados.append(no)\n",
    "for item in grafo[no]:\n",
    "    fila.append(item)\n",
    "fila.pop(0)"
   ]
  },
  {
   "cell_type": "code",
   "execution_count": 38,
   "metadata": {},
   "outputs": [
    {
     "data": {
      "text/plain": [
       "['D', 'E', 'F', 'G']"
      ]
     },
     "execution_count": 38,
     "metadata": {},
     "output_type": "execute_result"
    }
   ],
   "source": [
    "fila"
   ]
  },
  {
   "cell_type": "code",
   "execution_count": 39,
   "metadata": {},
   "outputs": [
    {
     "data": {
      "text/plain": [
       "['A', 'B', 'C']"
      ]
     },
     "execution_count": 39,
     "metadata": {},
     "output_type": "execute_result"
    }
   ],
   "source": [
    "visitados"
   ]
  },
  {
   "cell_type": "code",
   "execution_count": 40,
   "metadata": {},
   "outputs": [
    {
     "data": {
      "text/plain": [
       "'D'"
      ]
     },
     "execution_count": 40,
     "metadata": {},
     "output_type": "execute_result"
    }
   ],
   "source": [
    "no = fila[0]\n",
    "visitados.append(no)\n",
    "for item in grafo[no]:\n",
    "    fila.append(item)\n",
    "fila.pop(0)"
   ]
  },
  {
   "cell_type": "code",
   "execution_count": 41,
   "metadata": {},
   "outputs": [
    {
     "data": {
      "text/plain": [
       "['E', 'F', 'G', 'H', 'I']"
      ]
     },
     "execution_count": 41,
     "metadata": {},
     "output_type": "execute_result"
    }
   ],
   "source": [
    "fila"
   ]
  },
  {
   "cell_type": "code",
   "execution_count": 42,
   "metadata": {},
   "outputs": [
    {
     "data": {
      "text/plain": [
       "['A', 'B', 'C', 'D']"
      ]
     },
     "execution_count": 42,
     "metadata": {},
     "output_type": "execute_result"
    }
   ],
   "source": [
    "visitados"
   ]
  },
  {
   "cell_type": "code",
   "execution_count": 43,
   "metadata": {},
   "outputs": [
    {
     "data": {
      "text/plain": [
       "'E'"
      ]
     },
     "execution_count": 43,
     "metadata": {},
     "output_type": "execute_result"
    }
   ],
   "source": [
    "no = fila[0]\n",
    "visitados.append(no)\n",
    "for item in grafo[no]:\n",
    "    fila.append(item)\n",
    "fila.pop(0)"
   ]
  },
  {
   "cell_type": "code",
   "execution_count": 44,
   "metadata": {},
   "outputs": [
    {
     "data": {
      "text/plain": [
       "['F', 'G', 'H', 'I', 'J']"
      ]
     },
     "execution_count": 44,
     "metadata": {},
     "output_type": "execute_result"
    }
   ],
   "source": [
    "fila"
   ]
  },
  {
   "cell_type": "code",
   "execution_count": 45,
   "metadata": {},
   "outputs": [
    {
     "data": {
      "text/plain": [
       "['A', 'B', 'C', 'D', 'E']"
      ]
     },
     "execution_count": 45,
     "metadata": {},
     "output_type": "execute_result"
    }
   ],
   "source": [
    "visitados"
   ]
  },
  {
   "cell_type": "code",
   "execution_count": 46,
   "metadata": {},
   "outputs": [
    {
     "name": "stdout",
     "output_type": "stream",
     "text": [
      "['B', 'C']\n",
      "['A']\n"
     ]
    }
   ],
   "source": [
    "visitados = []; fila = []\n",
    "no = 'A'\n",
    "visitados.append(no)\n",
    "for item in grafo[no]:\n",
    "    fila.append(item)\n",
    "print(fila)\n",
    "print(visitados)"
   ]
  },
  {
   "cell_type": "code",
   "execution_count": 73,
   "metadata": {},
   "outputs": [],
   "source": [
    "def busca_em_largura(grafo, no):\n",
    "    visitados = []; fila = []\n",
    "    visitados.append(no)\n",
    "    for item in grafo[no]:\n",
    "        fila.append(item)\n",
    "    print(fila)\n",
    "    print(visitados)\n",
    "    while fila !=[]:\n",
    "        no = fila[0]\n",
    "        visitados.append(no)\n",
    "        for item in grafo[no]:\n",
    "            fila.append(item)\n",
    "        fila.pop(0)\n",
    "        print(fila)\n",
    "        print(visitados)\n",
    "    return visitados"
   ]
  },
  {
   "cell_type": "code",
   "execution_count": 70,
   "metadata": {},
   "outputs": [],
   "source": [
    "def busca_em_largura_com_objetivo(grafo, no, objetivo):\n",
    "    visitados = []; fila = []\n",
    "    visitados.append(no)\n",
    "    for item in grafo[no]:\n",
    "        fila.append(item)\n",
    "    print(fila)\n",
    "    print(visitados)\n",
    "    while fila !=[]:\n",
    "        no = fila[0]\n",
    "        if (objetivo not in visitados): visitados.append(no)\n",
    "        for item in grafo[no]:\n",
    "            fila.append(item)\n",
    "        fila.pop(0)\n",
    "        print(fila)\n",
    "        print(visitados)\n",
    "    return visitados"
   ]
  },
  {
   "cell_type": "code",
   "execution_count": 74,
   "metadata": {},
   "outputs": [
    {
     "name": "stdout",
     "output_type": "stream",
     "text": [
      "['B', 'C']\n",
      "['A']\n",
      "['C', 'D', 'E']\n",
      "['A', 'B']\n",
      "['D', 'E', 'F', 'G']\n",
      "['A', 'B', 'C']\n",
      "['E', 'F', 'G', 'H', 'I']\n",
      "['A', 'B', 'C', 'D']\n",
      "['F', 'G', 'H', 'I', 'J']\n",
      "['A', 'B', 'C', 'D', 'E']\n",
      "['G', 'H', 'I', 'J', 'K']\n",
      "['A', 'B', 'C', 'D', 'E', 'F']\n",
      "['H', 'I', 'J', 'K']\n",
      "['A', 'B', 'C', 'D', 'E', 'F', 'G']\n",
      "['I', 'J', 'K']\n",
      "['A', 'B', 'C', 'D', 'E', 'F', 'G', 'H']\n",
      "['J', 'K']\n",
      "['A', 'B', 'C', 'D', 'E', 'F', 'G', 'H', 'I']\n",
      "['K']\n",
      "['A', 'B', 'C', 'D', 'E', 'F', 'G', 'H', 'I', 'J']\n",
      "[]\n",
      "['A', 'B', 'C', 'D', 'E', 'F', 'G', 'H', 'I', 'J', 'K']\n"
     ]
    },
    {
     "data": {
      "text/plain": [
       "['A', 'B', 'C', 'D', 'E', 'F', 'G', 'H', 'I', 'J', 'K']"
      ]
     },
     "execution_count": 74,
     "metadata": {},
     "output_type": "execute_result"
    }
   ],
   "source": [
    "busca_em_largura(grafo,'A')"
   ]
  },
  {
   "cell_type": "code",
   "execution_count": 75,
   "metadata": {},
   "outputs": [
    {
     "name": "stdout",
     "output_type": "stream",
     "text": [
      "['B', 'C']\n",
      "['A']\n",
      "['C', 'D', 'E']\n",
      "['A', 'B']\n",
      "['D', 'E', 'F', 'G']\n",
      "['A', 'B', 'C']\n",
      "['E', 'F', 'G', 'H', 'I']\n",
      "['A', 'B', 'C', 'D']\n",
      "['F', 'G', 'H', 'I', 'J']\n",
      "['A', 'B', 'C', 'D', 'E']\n",
      "['G', 'H', 'I', 'J', 'K']\n",
      "['A', 'B', 'C', 'D', 'E', 'F']\n",
      "['H', 'I', 'J', 'K']\n",
      "['A', 'B', 'C', 'D', 'E', 'F', 'G']\n",
      "['I', 'J', 'K']\n",
      "['A', 'B', 'C', 'D', 'E', 'F', 'G']\n",
      "['J', 'K']\n",
      "['A', 'B', 'C', 'D', 'E', 'F', 'G']\n",
      "['K']\n",
      "['A', 'B', 'C', 'D', 'E', 'F', 'G']\n",
      "[]\n",
      "['A', 'B', 'C', 'D', 'E', 'F', 'G']\n"
     ]
    },
    {
     "data": {
      "text/plain": [
       "['A', 'B', 'C', 'D', 'E', 'F', 'G']"
      ]
     },
     "execution_count": 75,
     "metadata": {},
     "output_type": "execute_result"
    }
   ],
   "source": [
    "busca_em_largura_com_objetivo(grafo,'A','G')"
   ]
  },
  {
   "cell_type": "markdown",
   "metadata": {},
   "source": [
    "## Exercicio 1\n",
    "\n",
    "Dado o grafo 2 abaixo realize uma busca em profundidade, uma busca em profundidade com objetivo e uma busca em largura com objetivo\n",
    "Qual a diferença entre o grafo 1 e o grafo 2"
   ]
  },
  {
   "cell_type": "code",
   "execution_count": 80,
   "metadata": {},
   "outputs": [],
   "source": [
    "grafo2 = {'A': ['B', 'C','G'],\n",
    "          'B': ['D', 'E'],\n",
    "          'C': ['F', 'G'],\n",
    "          'D': ['H', 'I'],\n",
    "          'E': ['J'],\n",
    "          'F': ['K'],\n",
    "          'G': ['A'],\n",
    "          'H': [],\n",
    "          'I': [],\n",
    "          'J': [],\n",
    "          'K': []}"
   ]
  },
  {
   "cell_type": "code",
   "execution_count": 81,
   "metadata": {},
   "outputs": [],
   "source": [
    "## colqque aqui a busca em profundidade\n",
    "\n",
    "##"
   ]
  },
  {
   "cell_type": "code",
   "execution_count": 78,
   "metadata": {},
   "outputs": [],
   "source": [
    "## coloque aqui a busca em profundidade com objetivo\n",
    "\n",
    "##"
   ]
  },
  {
   "cell_type": "code",
   "execution_count": 78,
   "metadata": {},
   "outputs": [],
   "source": [
    "## coloque aqui a busca em largura com objetivo\n",
    "\n",
    "##"
   ]
  },
  {
   "cell_type": "markdown",
   "metadata": {},
   "source": [
    "## Problema Metro\n",
    "Implemente um grafo para as linhas do metro da figura. Faça uma busca entre Barra Funda e Vila Prudente"
   ]
  },
  {
   "cell_type": "markdown",
   "metadata": {},
   "source": [
    "![Exemplo](Metro.png \"Nosso exemplo da ultima aula\")"
   ]
  },
  {
   "cell_type": "code",
   "execution_count": null,
   "metadata": {},
   "outputs": [],
   "source": [
    "metro = {'Barra Funda': ['M_Deodoro'],\n",
    "         }"
   ]
  },
  {
   "cell_type": "code",
   "execution_count": null,
   "metadata": {},
   "outputs": [],
   "source": []
  }
 ],
 "metadata": {
  "kernelspec": {
   "display_name": "Python 3",
   "language": "python",
   "name": "python3"
  },
  "language_info": {
   "codemirror_mode": {
    "name": "ipython",
    "version": 3
   },
   "file_extension": ".py",
   "mimetype": "text/x-python",
   "name": "python",
   "nbconvert_exporter": "python",
   "pygments_lexer": "ipython3",
   "version": "3.6.8"
  }
 },
 "nbformat": 4,
 "nbformat_minor": 2
}
